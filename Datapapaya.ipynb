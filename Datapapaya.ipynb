{
  "nbformat": 4,
  "nbformat_minor": 0,
  "metadata": {
    "colab": {
      "name": "Datapapaya.ipynb",
      "provenance": [],
      "collapsed_sections": [],
      "toc_visible": true,
      "authorship_tag": "ABX9TyNa9FptkSYLvTgzmuHqQov2",
      "include_colab_link": true
    },
    "kernelspec": {
      "name": "python3",
      "display_name": "Python 3"
    },
    "language_info": {
      "name": "python"
    }
  },
  "cells": [
    {
      "cell_type": "markdown",
      "metadata": {
        "id": "view-in-github",
        "colab_type": "text"
      },
      "source": [
        "<a href=\"https://colab.research.google.com/github/earth1429/AI-ClassifyImage/blob/main/Datapapaya.ipynb\" target=\"_parent\"><img src=\"https://colab.research.google.com/assets/colab-badge.svg\" alt=\"Open In Colab\"/></a>"
      ]
    },
    {
      "cell_type": "code",
      "metadata": {
        "id": "sbL7DlUmfmGR"
      },
      "source": [
        "# Importing all necessary libraries\n",
        "import numpy as np\n",
        "import tensorflow as tf\n",
        "from tensorflow.keras import datasets, layers, models\n",
        "from tensorflow import keras\n",
        "from tensorflow.keras import layers\n",
        "from tensorflow.keras.models import Sequential\n",
        "from tensorflow.keras.preprocessing import image\n",
        "from tensorflow.keras.preprocessing.image import ImageDataGenerator"
      ],
      "execution_count": null,
      "outputs": []
    },
    {
      "cell_type": "code",
      "metadata": {
        "colab": {
          "base_uri": "https://localhost:8080/"
        },
        "id": "N7z8iAmlGMT9",
        "outputId": "f094a9f7-7d32-44b1-9ef9-39c2e2a2af6f"
      },
      "source": [
        "from google.colab import drive\n",
        "drive.mount('/content/drive')"
      ],
      "execution_count": null,
      "outputs": [
        {
          "output_type": "stream",
          "name": "stdout",
          "text": [
            "Drive already mounted at /content/drive; to attempt to forcibly remount, call drive.mount(\"/content/drive\", force_remount=True).\n"
          ]
        }
      ]
    },
    {
      "cell_type": "code",
      "metadata": {
        "id": "fMPzKaxTpSxF",
        "colab": {
          "base_uri": "https://localhost:8080/"
        },
        "outputId": "e723f3ed-308f-464e-8a1b-b67b78543d9e"
      },
      "source": [
        "#\n",
        "# train_datagenerator = ImageDataGenerator(rescale=1./255)\n",
        "# test_datagenerator = ImageDataGenerator(rescale=1./255)\n",
        "\n",
        "# train_datagenerator = train_datagenerator.flow_from_directory(\n",
        "#     '/content/drive/MyDrive/ปี 3 เทอม 1/CSC340 AI/DataTraining/Train',\n",
        "#     target_size=(128,128),\n",
        "#     batch_size=32,\n",
        "#     class_mode='binary')\n",
        "\n",
        "# test_datagenerator = test_datagenerator.flow_from_directory(\n",
        "#     '/content/drive/MyDrive/ปี 3 เทอม 1/CSC340 AI/DataTraining/Test',\n",
        "#     target_size=(128,128),\n",
        "#     batch_size=32,\n",
        "#     class_mode='binary')"
      ],
      "execution_count": null,
      "outputs": [
        {
          "output_type": "stream",
          "name": "stdout",
          "text": [
            "Found 1200 images belonging to 3 classes.\n",
            "Found 300 images belonging to 3 classes.\n"
          ]
        }
      ]
    },
    {
      "cell_type": "code",
      "metadata": {
        "id": "_r7qZ7_vZWFd",
        "colab": {
          "base_uri": "https://localhost:8080/"
        },
        "outputId": "e6787d8c-2a2f-4854-ce42-2ec56268908b"
      },
      "source": [
        "#Main\n",
        "data_generator = ImageDataGenerator(\n",
        "    rescale = 1. / 255, \n",
        "    shear_range = 0.2, \n",
        "    zoom_range = 0.2, \n",
        "    horizontal_flip = True,\n",
        "    vertical_flip = True,\n",
        "    rotation_range = 180,\n",
        "    width_shift_range = 0.2,\n",
        "    height_shift_range = 0.2,\n",
        "    validation_split = 0.33) \n",
        "\n",
        "train_generator = data_generator.flow_from_directory(\n",
        "    '/content/drive/MyDrive/ปี 3 เทอม 1/CSC340 AI/DataTraining/Train', \n",
        "    target_size =(128, 128),\n",
        "    batch_size=32,\n",
        "    shuffle = True,\n",
        "    class_mode = 'sparse',\n",
        "    seed = 42,\n",
        "    subset='training')\n",
        "\n",
        "validation_generator = data_generator.flow_from_directory( \n",
        "    '/content/drive/MyDrive/ปี 3 เทอม 1/CSC340 AI/DataTraining/Train', \n",
        "    target_size =(128, 128),\n",
        "    batch_size=32,\n",
        "    shuffle = True,\n",
        "    class_mode = 'sparse',\n",
        "    seed = 42,\n",
        "    subset='validation')\n"
      ],
      "execution_count": null,
      "outputs": [
        {
          "output_type": "stream",
          "name": "stdout",
          "text": [
            "Found 804 images belonging to 3 classes.\n",
            "Found 396 images belonging to 3 classes.\n"
          ]
        }
      ]
    },
    {
      "cell_type": "code",
      "metadata": {
        "id": "zX2DTfgwlSYL"
      },
      "source": [
        "# Use the Image Data generator to import the images from the dataset\n",
        "\n",
        "# X_train = []\n",
        "# Y_train = []"
      ],
      "execution_count": null,
      "outputs": []
    },
    {
      "cell_type": "code",
      "metadata": {
        "id": "pVUQ9yEKxTVG"
      },
      "source": [
        "#medium\n",
        "# for filename in os.listdir('/content/drive/MyDrive/ปี 3 เทอม 1/CSC340 AI/DataTraining/Train/Medium'):\n",
        "#   f = os.path.join('/content/drive/MyDrive/ปี 3 เทอม 1/CSC340 AI/DataTraining/Train/Medium', filename)\n",
        "#   img = cv2.imread(f)\n",
        "#   img = cv2.resize(img,(128,128))\n",
        "#   img = img / 255.\n",
        "#   img = img.reshape(128,128,3)\n",
        "#   X_train.append(img)\n",
        "#   Y_train.append(1)"
      ],
      "execution_count": null,
      "outputs": []
    },
    {
      "cell_type": "code",
      "metadata": {
        "id": "DYM3C03zzJl9"
      },
      "source": [
        "#ripe\n",
        "# for filename in os.listdir('/content/drive/MyDrive/ปี 3 เทอม 1/CSC340 AI/DataTraining/Train/Ripe'):\n",
        "#   f = os.path.join('/content/drive/MyDrive/ปี 3 เทอม 1/CSC340 AI/DataTraining/Train/Ripe', filename)\n",
        "#   img = cv2.imread(f)\n",
        "#   img = cv2.resize(img,(128,128))\n",
        "#   img = img / 255.\n",
        "#   img = img.reshape(128,128,3)\n",
        "#   X_train.append(img)\n",
        "#   Y_train.append(2)"
      ],
      "execution_count": null,
      "outputs": []
    },
    {
      "cell_type": "code",
      "metadata": {
        "id": "5vGi-raRzJdm"
      },
      "source": [
        "#unripe\n",
        "# for filename in os.listdir('/content/drive/MyDrive/ปี 3 เทอม 1/CSC340 AI/DataTraining/Train/Unripe'):\n",
        "#   f = os.path.join('/content/drive/MyDrive/ปี 3 เทอม 1/CSC340 AI/DataTraining/Train/Unripe', filename)\n",
        "#   img = cv2.imread(f)\n",
        "#   img = cv2.resize(img,(128,128))\n",
        "#   img = img / 255.\n",
        "#   img = img.reshape(128,128,3)\n",
        "#   X_train.append(img)\n",
        "#   Y_train.append(3)"
      ],
      "execution_count": null,
      "outputs": []
    },
    {
      "cell_type": "code",
      "metadata": {
        "id": "dO97WWYamZ6s"
      },
      "source": [
        "# Main\n",
        "model = tf.keras.Sequential([\n",
        "\n",
        "  tf.keras.layers.Conv2D(16, (3,3),padding='same', activation='relu', input_shape=(128,128, 3)),\n",
        "  tf.keras.layers.MaxPooling2D((2,2),2), \n",
        "  \n",
        "  # tf.keras.layers.Conv2D(32, (3,3), padding='same', activation='relu'),\n",
        "  # tf.keras.layers.MaxPooling2D((2,2),2),\n",
        "\n",
        "  tf.keras.layers.Conv2D(64, (3,3), padding='same', activation='relu'),\n",
        "  tf.keras.layers.MaxPooling2D((2,2),2), \n",
        "\n",
        "  # tf.keras.layers.Conv2D(128, (3,3), padding='same', activation='relu'),\n",
        "  # tf.keras.layers.MaxPooling2D((2,2),2),\n",
        "\n",
        "  # tf.keras.layers.Conv2D(256, (3,3), padding='same', activation='relu'),\n",
        "  # tf.keras.layers.MaxPooling2D((2,2),2),\n",
        "\n",
        "  tf.keras.layers.Flatten(),\n",
        "  tf.keras.layers.Dense(1024, activation='relu'),\n",
        "  tf.keras.layers.Dense(3, activation='softmax')\n",
        "])"
      ],
      "execution_count": null,
      "outputs": []
    },
    {
      "cell_type": "code",
      "metadata": {
        "colab": {
          "base_uri": "https://localhost:8080/"
        },
        "id": "iDnVAC78x9ne",
        "outputId": "ef089b4b-f262-4d8e-cac9-6cb83e0e46f7"
      },
      "source": [
        "optimizer = keras.optimizers.Adam(lr=1e-3)"
      ],
      "execution_count": null,
      "outputs": [
        {
          "output_type": "stream",
          "name": "stderr",
          "text": [
            "/usr/local/lib/python3.7/dist-packages/keras/optimizer_v2/adam.py:105: UserWarning: The `lr` argument is deprecated, use `learning_rate` instead.\n",
            "  super(Adam, self).__init__(name, **kwargs)\n"
          ]
        }
      ]
    },
    {
      "cell_type": "code",
      "metadata": {
        "id": "0ptuxtkyubps"
      },
      "source": [
        "model.compile(optimizer = optimizer,\n",
        "            loss='sparse_categorical_crossentropy',\n",
        "             metrics=['accuracy'])"
      ],
      "execution_count": null,
      "outputs": []
    },
    {
      "cell_type": "code",
      "metadata": {
        "colab": {
          "base_uri": "https://localhost:8080/"
        },
        "id": "OOEqSLyvPC6-",
        "outputId": "5dd4fb43-4178-4324-9db7-4b620cff26e5"
      },
      "source": [
        "print(model.summary())"
      ],
      "execution_count": null,
      "outputs": [
        {
          "output_type": "stream",
          "name": "stdout",
          "text": [
            "Model: \"sequential_5\"\n",
            "_________________________________________________________________\n",
            " Layer (type)                Output Shape              Param #   \n",
            "=================================================================\n",
            " conv2d_13 (Conv2D)          (None, 128, 128, 16)      448       \n",
            "                                                                 \n",
            " max_pooling2d_13 (MaxPoolin  (None, 64, 64, 16)       0         \n",
            " g2D)                                                            \n",
            "                                                                 \n",
            " conv2d_14 (Conv2D)          (None, 64, 64, 64)        9280      \n",
            "                                                                 \n",
            " max_pooling2d_14 (MaxPoolin  (None, 32, 32, 64)       0         \n",
            " g2D)                                                            \n",
            "                                                                 \n",
            " flatten_5 (Flatten)         (None, 65536)             0         \n",
            "                                                                 \n",
            " dense_11 (Dense)            (None, 1024)              67109888  \n",
            "                                                                 \n",
            " dense_12 (Dense)            (None, 3)                 3075      \n",
            "                                                                 \n",
            "=================================================================\n",
            "Total params: 67,122,691\n",
            "Trainable params: 67,122,691\n",
            "Non-trainable params: 0\n",
            "_________________________________________________________________\n",
            "None\n"
          ]
        }
      ]
    },
    {
      "cell_type": "code",
      "metadata": {
        "id": "46Jcz6rmu-Ft"
      },
      "source": [
        "# X_train = np.array(X_train)\n",
        "# Y_train = np.array(Y_train)"
      ],
      "execution_count": null,
      "outputs": []
    },
    {
      "cell_type": "code",
      "metadata": {
        "id": "652oCankqDxx",
        "colab": {
          "base_uri": "https://localhost:8080/"
        },
        "outputId": "f041ed20-a3e0-4702-891d-1f1566d55492"
      },
      "source": [
        " model.fit(train_generator, epochs=15, validation_data=validation_generator)"
      ],
      "execution_count": null,
      "outputs": [
        {
          "output_type": "stream",
          "name": "stdout",
          "text": [
            "Epoch 1/15\n",
            "26/26 [==============================] - 343s 13s/step - loss: 3.8444 - accuracy: 0.5050 - val_loss: 0.6054 - val_accuracy: 0.6566\n",
            "Epoch 2/15\n",
            "26/26 [==============================] - 44s 2s/step - loss: 0.5543 - accuracy: 0.7239 - val_loss: 0.4469 - val_accuracy: 0.8106\n",
            "Epoch 3/15\n",
            "26/26 [==============================] - 44s 2s/step - loss: 0.3392 - accuracy: 0.8669 - val_loss: 0.2521 - val_accuracy: 0.8864\n",
            "Epoch 4/15\n",
            "26/26 [==============================] - 44s 2s/step - loss: 0.2748 - accuracy: 0.8905 - val_loss: 0.1530 - val_accuracy: 0.9419\n",
            "Epoch 5/15\n",
            "26/26 [==============================] - 44s 2s/step - loss: 0.2954 - accuracy: 0.8794 - val_loss: 0.2112 - val_accuracy: 0.8939\n",
            "Epoch 6/15\n",
            "26/26 [==============================] - 44s 2s/step - loss: 0.3173 - accuracy: 0.8607 - val_loss: 0.1759 - val_accuracy: 0.9192\n",
            "Epoch 7/15\n",
            "26/26 [==============================] - 44s 2s/step - loss: 0.2670 - accuracy: 0.8881 - val_loss: 0.1564 - val_accuracy: 0.9419\n",
            "Epoch 8/15\n",
            "26/26 [==============================] - 44s 2s/step - loss: 0.2411 - accuracy: 0.9080 - val_loss: 0.1971 - val_accuracy: 0.9242\n",
            "Epoch 9/15\n",
            "26/26 [==============================] - 44s 2s/step - loss: 0.2348 - accuracy: 0.9117 - val_loss: 0.1682 - val_accuracy: 0.9343\n",
            "Epoch 10/15\n",
            "26/26 [==============================] - 44s 2s/step - loss: 0.2354 - accuracy: 0.9042 - val_loss: 0.3008 - val_accuracy: 0.8712\n",
            "Epoch 11/15\n",
            "26/26 [==============================] - 44s 2s/step - loss: 0.2295 - accuracy: 0.8943 - val_loss: 0.2136 - val_accuracy: 0.9116\n",
            "Epoch 12/15\n",
            "26/26 [==============================] - 44s 2s/step - loss: 0.2162 - accuracy: 0.9129 - val_loss: 0.3998 - val_accuracy: 0.8434\n",
            "Epoch 13/15\n",
            "26/26 [==============================] - 43s 2s/step - loss: 0.3018 - accuracy: 0.8619 - val_loss: 0.2903 - val_accuracy: 0.8939\n",
            "Epoch 14/15\n",
            "26/26 [==============================] - 44s 2s/step - loss: 0.2397 - accuracy: 0.9092 - val_loss: 0.2126 - val_accuracy: 0.9268\n",
            "Epoch 15/15\n",
            "26/26 [==============================] - 44s 2s/step - loss: 0.2092 - accuracy: 0.9167 - val_loss: 0.1988 - val_accuracy: 0.9167\n"
          ]
        },
        {
          "output_type": "execute_result",
          "data": {
            "text/plain": [
              "<keras.callbacks.History at 0x7fcd38bb8dd0>"
            ]
          },
          "metadata": {},
          "execution_count": 28
        }
      ]
    },
    {
      "cell_type": "code",
      "metadata": {
        "id": "G2Dc10o9044e"
      },
      "source": [
        "# model.fit(X_train,Y_train, epochs=20)"
      ],
      "execution_count": null,
      "outputs": []
    },
    {
      "cell_type": "code",
      "metadata": {
        "id": "R7rswvy2Z80x"
      },
      "source": [
        "# Main\n",
        "filePath = '/content/drive/MyDrive/ปี 3 เทอม 1/CSC340 AI/DataTraining/'"
      ],
      "execution_count": null,
      "outputs": []
    },
    {
      "cell_type": "code",
      "metadata": {
        "id": "yAdP2DU5KyFR"
      },
      "source": [
        "# Main\n",
        "# Save Model\n",
        "model.save(filePath+'Model/DomeModelpapaya.h5')"
      ],
      "execution_count": null,
      "outputs": []
    },
    {
      "cell_type": "code",
      "metadata": {
        "id": "rY_sIMTwuYrY"
      },
      "source": [
        "model = tf.keras.models.load_model(filePath+'Model/DomeModelpapaya.h5')"
      ],
      "execution_count": null,
      "outputs": []
    },
    {
      "cell_type": "code",
      "metadata": {
        "id": "kRK2EOpy0Q7Q"
      },
      "source": [
        "#\n",
        "# model = tf.keras.models.load_model('DomePapaya.h5')"
      ],
      "execution_count": null,
      "outputs": []
    },
    {
      "cell_type": "code",
      "metadata": {
        "id": "7WMCtO5o0DsI"
      },
      "source": [
        "#\n",
        "# path = '/content/drive/MyDrive/ปี 3 เทอม 1/CSC340 AI/DataTraining/Test/Ripe/ripe_001.PNG'\n",
        "# img = image.load_img(path, target_size=(128, 128, 3))\n",
        "# x = image.img_to_array(img)\n",
        "# x = np.expand_dims(x, axis=0)\n",
        "\n",
        "# images = np.vstack([x])\n",
        "# classes = model.predict(images)\n",
        "# print(classes[0])\n"
      ],
      "execution_count": null,
      "outputs": []
    },
    {
      "cell_type": "code",
      "metadata": {
        "id": "ApHRawCCPDAZ"
      },
      "source": [
        "# Main\n",
        "def translate(x):\n",
        "    return {\n",
        "        0: 'medium',\n",
        "        1: 'ripe',\n",
        "        2: 'unripe',\n",
        "        3: 'error'\n",
        "    }.get(x, 3)\n"
      ],
      "execution_count": null,
      "outputs": []
    },
    {
      "cell_type": "code",
      "metadata": {
        "id": "g9T7A6NLPDQJ",
        "colab": {
          "base_uri": "https://localhost:8080/"
        },
        "outputId": "a9e738d4-6c65-44ba-fe2e-f711ce4e3183"
      },
      "source": [
        "# Main\n",
        "path = '/content/drive/MyDrive/ปี 3 เทอม 1/CSC340 AI/DataTraining/Test/Ripe/ripe_024.PNG'\n",
        "img = image.load_img(path, target_size=(128, 128, 3))\n",
        "x = image.img_to_array(img)\n",
        "x = np.expand_dims(x, axis=0)\n",
        "images = np.vstack([x])\n",
        "classes = model.predict(images)\n",
        "classes = model.predict(images)\n",
        "score = tf.nn.softmax(classes[0])\n",
        "print(\"Status: \", translate(np.argmax(classes[0])))\n",
        "print(\"Confident Level: \", np.max(score)*100)"
      ],
      "execution_count": null,
      "outputs": [
        {
          "output_type": "stream",
          "name": "stdout",
          "text": [
            "Status:  ripe\n",
            "Confident Level:  57.61169195175171\n"
          ]
        }
      ]
    },
    {
      "cell_type": "code",
      "metadata": {
        "id": "u3zteaOEssQ_"
      },
      "source": [
        "# from keras.models import load_model\n",
        "# def classify_img(filename):\n",
        "#   result=[]\n",
        "#   Loadmodel = load_model('/content/OtherPapaya101.h5')\n",
        "#   img = cv2.imread(filename)\n",
        "#   cv2_imshow(img)\n",
        "  \n",
        "#   img = cv2.resize(img,(128,128))\n",
        "#   img = img /255.\n",
        "#   img = img.reshape(128,128,3)\n",
        "#   result.append(img)\n",
        "#   result = np.array(result)\n",
        "\n",
        "#   final = model.predict(result)\n",
        "#   np.array(final)\n",
        "#   if (np.argmax(final)==1):\n",
        "#     return \"It's medium\"\n",
        "#   elif (np.argmax(final)==2):\n",
        "#     return \"It's ripe\"\n",
        "#   else:\n",
        "#     return \"It's unripe\""
      ],
      "execution_count": null,
      "outputs": []
    },
    {
      "cell_type": "code",
      "metadata": {
        "id": "25TNaC1a58sY"
      },
      "source": [
        "# classify_img('/content/drive/MyDrive/ปี 3 เทอม 1/CSC340 AI/DataTraining/Test/Unripe/unripe_013.PNG')"
      ],
      "execution_count": null,
      "outputs": []
    },
    {
      "cell_type": "code",
      "metadata": {
        "id": "0kXfIeY5bGvC",
        "colab": {
          "base_uri": "https://localhost:8080/"
        },
        "outputId": "d274d3c5-7d45-4be2-b96c-f329dd558740"
      },
      "source": [
        "# Main\n",
        "import cv2\n",
        "import os\n",
        "\n",
        "x_predict = []\n",
        "# list_of_files = sorted( filter( lambda x: os.path.isfile(os.path.join(filePath+'Predict/Predict02', x)),os.listdir(filePath+'Predict/Predict02') ) )\n",
        "# for file_name in list_of_files:\n",
        "#     print(file_name)\n",
        "    \n",
        "for filename in sorted(os.listdir(filePath+'Predict/Predict02')):\n",
        "  f = os.path.join(filePath+'Predict/Predict02', filename)\n",
        "  print(f)\n",
        "  img = image.load_img(f, target_size=(128, 128, 3))\n",
        "  x = image.img_to_array(img)\n",
        "  x = np.expand_dims(x, axis=0)\n",
        "  images = np.vstack([x])\n",
        "  # img = cv2.imread(f)\n",
        "  # img = image.img_to_array(img)\n",
        "  # img = cv2.resize(img,(128,128))\n",
        "  # img = img / 255.\n",
        "  # img = img.reshape(128,128,3)\n",
        "  # img = np.expand_dims(img, axis=0)\n",
        "  classes = model.predict(images)\n",
        "  score = tf.nn.softmax(classes[0])\n",
        "  # print(np.max(score), translate(np.argmax(classes[0])))\n",
        "  # print(np.max(score))\n",
        "  x_predict.append(translate(np.argmax(classes[0])))\n"
      ],
      "execution_count": null,
      "outputs": [
        {
          "output_type": "stream",
          "name": "stdout",
          "text": [
            "/content/drive/MyDrive/ปี 3 เทอม 1/CSC340 AI/DataTraining/Predict/Predict02/Papaya_01.PNG\n",
            "/content/drive/MyDrive/ปี 3 เทอม 1/CSC340 AI/DataTraining/Predict/Predict02/Papaya_02.PNG\n",
            "/content/drive/MyDrive/ปี 3 เทอม 1/CSC340 AI/DataTraining/Predict/Predict02/Papaya_03.PNG\n",
            "/content/drive/MyDrive/ปี 3 เทอม 1/CSC340 AI/DataTraining/Predict/Predict02/Papaya_04.PNG\n",
            "/content/drive/MyDrive/ปี 3 เทอม 1/CSC340 AI/DataTraining/Predict/Predict02/Papaya_05.PNG\n",
            "/content/drive/MyDrive/ปี 3 เทอม 1/CSC340 AI/DataTraining/Predict/Predict02/Papaya_06.PNG\n",
            "/content/drive/MyDrive/ปี 3 เทอม 1/CSC340 AI/DataTraining/Predict/Predict02/Papaya_07.PNG\n",
            "/content/drive/MyDrive/ปี 3 เทอม 1/CSC340 AI/DataTraining/Predict/Predict02/Papaya_08.PNG\n",
            "/content/drive/MyDrive/ปี 3 เทอม 1/CSC340 AI/DataTraining/Predict/Predict02/Papaya_09.PNG\n",
            "/content/drive/MyDrive/ปี 3 เทอม 1/CSC340 AI/DataTraining/Predict/Predict02/Papaya_10.PNG\n",
            "/content/drive/MyDrive/ปี 3 เทอม 1/CSC340 AI/DataTraining/Predict/Predict02/Papaya_11.PNG\n",
            "/content/drive/MyDrive/ปี 3 เทอม 1/CSC340 AI/DataTraining/Predict/Predict02/Papaya_12.PNG\n",
            "/content/drive/MyDrive/ปี 3 เทอม 1/CSC340 AI/DataTraining/Predict/Predict02/Papaya_13.PNG\n",
            "/content/drive/MyDrive/ปี 3 เทอม 1/CSC340 AI/DataTraining/Predict/Predict02/Papaya_14.PNG\n",
            "/content/drive/MyDrive/ปี 3 เทอม 1/CSC340 AI/DataTraining/Predict/Predict02/Papaya_15.PNG\n",
            "/content/drive/MyDrive/ปี 3 เทอม 1/CSC340 AI/DataTraining/Predict/Predict02/Papaya_16.PNG\n",
            "/content/drive/MyDrive/ปี 3 เทอม 1/CSC340 AI/DataTraining/Predict/Predict02/Papaya_17.PNG\n",
            "/content/drive/MyDrive/ปี 3 เทอม 1/CSC340 AI/DataTraining/Predict/Predict02/Papaya_18.PNG\n",
            "/content/drive/MyDrive/ปี 3 เทอม 1/CSC340 AI/DataTraining/Predict/Predict02/Papaya_19.PNG\n",
            "/content/drive/MyDrive/ปี 3 เทอม 1/CSC340 AI/DataTraining/Predict/Predict02/Papaya_20.PNG\n",
            "/content/drive/MyDrive/ปี 3 เทอม 1/CSC340 AI/DataTraining/Predict/Predict02/Papaya_21.PNG\n",
            "/content/drive/MyDrive/ปี 3 เทอม 1/CSC340 AI/DataTraining/Predict/Predict02/Papaya_22.PNG\n",
            "/content/drive/MyDrive/ปี 3 เทอม 1/CSC340 AI/DataTraining/Predict/Predict02/Papaya_23.PNG\n",
            "/content/drive/MyDrive/ปี 3 เทอม 1/CSC340 AI/DataTraining/Predict/Predict02/Papaya_24.PNG\n",
            "/content/drive/MyDrive/ปี 3 เทอม 1/CSC340 AI/DataTraining/Predict/Predict02/Papaya_25.PNG\n",
            "/content/drive/MyDrive/ปี 3 เทอม 1/CSC340 AI/DataTraining/Predict/Predict02/Papaya_26.PNG\n",
            "/content/drive/MyDrive/ปี 3 เทอม 1/CSC340 AI/DataTraining/Predict/Predict02/Papaya_27.PNG\n",
            "/content/drive/MyDrive/ปี 3 เทอม 1/CSC340 AI/DataTraining/Predict/Predict02/Papaya_28.PNG\n",
            "/content/drive/MyDrive/ปี 3 เทอม 1/CSC340 AI/DataTraining/Predict/Predict02/Papaya_29.PNG\n",
            "/content/drive/MyDrive/ปี 3 เทอม 1/CSC340 AI/DataTraining/Predict/Predict02/Papaya_30.PNG\n",
            "/content/drive/MyDrive/ปี 3 เทอม 1/CSC340 AI/DataTraining/Predict/Predict02/Papaya_31.PNG\n",
            "/content/drive/MyDrive/ปี 3 เทอม 1/CSC340 AI/DataTraining/Predict/Predict02/Papaya_32.PNG\n",
            "/content/drive/MyDrive/ปี 3 เทอม 1/CSC340 AI/DataTraining/Predict/Predict02/Papaya_33.PNG\n",
            "/content/drive/MyDrive/ปี 3 เทอม 1/CSC340 AI/DataTraining/Predict/Predict02/Papaya_34.PNG\n",
            "/content/drive/MyDrive/ปี 3 เทอม 1/CSC340 AI/DataTraining/Predict/Predict02/Papaya_35.PNG\n",
            "/content/drive/MyDrive/ปี 3 เทอม 1/CSC340 AI/DataTraining/Predict/Predict02/Papaya_36.PNG\n",
            "/content/drive/MyDrive/ปี 3 เทอม 1/CSC340 AI/DataTraining/Predict/Predict02/Papaya_37.PNG\n",
            "/content/drive/MyDrive/ปี 3 เทอม 1/CSC340 AI/DataTraining/Predict/Predict02/Papaya_38.PNG\n",
            "/content/drive/MyDrive/ปี 3 เทอม 1/CSC340 AI/DataTraining/Predict/Predict02/Papaya_39.PNG\n",
            "/content/drive/MyDrive/ปี 3 เทอม 1/CSC340 AI/DataTraining/Predict/Predict02/Papaya_40.PNG\n",
            "/content/drive/MyDrive/ปี 3 เทอม 1/CSC340 AI/DataTraining/Predict/Predict02/Papaya_41.PNG\n",
            "/content/drive/MyDrive/ปี 3 เทอม 1/CSC340 AI/DataTraining/Predict/Predict02/Papaya_42.PNG\n",
            "/content/drive/MyDrive/ปี 3 เทอม 1/CSC340 AI/DataTraining/Predict/Predict02/Papaya_43.PNG\n",
            "/content/drive/MyDrive/ปี 3 เทอม 1/CSC340 AI/DataTraining/Predict/Predict02/Papaya_44.PNG\n",
            "/content/drive/MyDrive/ปี 3 เทอม 1/CSC340 AI/DataTraining/Predict/Predict02/Papaya_45.PNG\n",
            "/content/drive/MyDrive/ปี 3 เทอม 1/CSC340 AI/DataTraining/Predict/Predict02/Papaya_46.PNG\n",
            "/content/drive/MyDrive/ปี 3 เทอม 1/CSC340 AI/DataTraining/Predict/Predict02/Papaya_47.PNG\n",
            "/content/drive/MyDrive/ปี 3 เทอม 1/CSC340 AI/DataTraining/Predict/Predict02/Papaya_48.PNG\n",
            "/content/drive/MyDrive/ปี 3 เทอม 1/CSC340 AI/DataTraining/Predict/Predict02/Papaya_49.PNG\n",
            "/content/drive/MyDrive/ปี 3 เทอม 1/CSC340 AI/DataTraining/Predict/Predict02/Papaya_50.PNG\n",
            "/content/drive/MyDrive/ปี 3 เทอม 1/CSC340 AI/DataTraining/Predict/Predict02/Papaya_51.PNG\n",
            "/content/drive/MyDrive/ปี 3 เทอม 1/CSC340 AI/DataTraining/Predict/Predict02/Papaya_52.PNG\n",
            "/content/drive/MyDrive/ปี 3 เทอม 1/CSC340 AI/DataTraining/Predict/Predict02/Papaya_53.PNG\n",
            "/content/drive/MyDrive/ปี 3 เทอม 1/CSC340 AI/DataTraining/Predict/Predict02/Papaya_54.PNG\n",
            "/content/drive/MyDrive/ปี 3 เทอม 1/CSC340 AI/DataTraining/Predict/Predict02/Papaya_55.PNG\n",
            "/content/drive/MyDrive/ปี 3 เทอม 1/CSC340 AI/DataTraining/Predict/Predict02/Papaya_56.PNG\n",
            "/content/drive/MyDrive/ปี 3 เทอม 1/CSC340 AI/DataTraining/Predict/Predict02/Papaya_57.PNG\n",
            "/content/drive/MyDrive/ปี 3 เทอม 1/CSC340 AI/DataTraining/Predict/Predict02/Papaya_58.PNG\n",
            "/content/drive/MyDrive/ปี 3 เทอม 1/CSC340 AI/DataTraining/Predict/Predict02/Papaya_59.PNG\n",
            "/content/drive/MyDrive/ปี 3 เทอม 1/CSC340 AI/DataTraining/Predict/Predict02/Papaya_60.PNG\n"
          ]
        }
      ]
    },
    {
      "cell_type": "code",
      "metadata": {
        "id": "8ahDibK4ZEFi",
        "colab": {
          "base_uri": "https://localhost:8080/"
        },
        "outputId": "414611e7-5b3c-4b63-c7e8-45b22ac1f93e"
      },
      "source": [
        "x_predict"
      ],
      "execution_count": null,
      "outputs": [
        {
          "output_type": "execute_result",
          "data": {
            "text/plain": [
              "['unripe',\n",
              " 'unripe',\n",
              " 'ripe',\n",
              " 'ripe',\n",
              " 'unripe',\n",
              " 'ripe',\n",
              " 'unripe',\n",
              " 'ripe',\n",
              " 'ripe',\n",
              " 'ripe',\n",
              " 'ripe',\n",
              " 'unripe',\n",
              " 'ripe',\n",
              " 'unripe',\n",
              " 'ripe',\n",
              " 'medium',\n",
              " 'unripe',\n",
              " 'ripe',\n",
              " 'medium',\n",
              " 'ripe',\n",
              " 'medium',\n",
              " 'unripe',\n",
              " 'ripe',\n",
              " 'medium',\n",
              " 'ripe',\n",
              " 'unripe',\n",
              " 'ripe',\n",
              " 'medium',\n",
              " 'ripe',\n",
              " 'ripe',\n",
              " 'unripe',\n",
              " 'ripe',\n",
              " 'ripe',\n",
              " 'medium',\n",
              " 'unripe',\n",
              " 'ripe',\n",
              " 'unripe',\n",
              " 'ripe',\n",
              " 'medium',\n",
              " 'unripe',\n",
              " 'ripe',\n",
              " 'ripe',\n",
              " 'medium',\n",
              " 'unripe',\n",
              " 'ripe',\n",
              " 'medium',\n",
              " 'ripe',\n",
              " 'unripe',\n",
              " 'unripe',\n",
              " 'ripe',\n",
              " 'ripe',\n",
              " 'unripe',\n",
              " 'unripe',\n",
              " 'ripe',\n",
              " 'ripe',\n",
              " 'medium',\n",
              " 'unripe',\n",
              " 'ripe',\n",
              " 'unripe',\n",
              " 'ripe']"
            ]
          },
          "metadata": {},
          "execution_count": 45
        }
      ]
    },
    {
      "cell_type": "code",
      "metadata": {
        "id": "26GXSVmcHlYi",
        "colab": {
          "base_uri": "https://localhost:8080/"
        },
        "outputId": "cf944d2f-b586-4c9a-9399-5d44b89bf4cc"
      },
      "source": [
        "# Main\n",
        "# Confusion matrix\n",
        "from sklearn import metrics\n",
        "import pandas as pd\n",
        "\n",
        "x_actual = pd.read_csv(filePath+'Model/Result/PapayaResultV2.csv', header = None)\n",
        "print(metrics.confusion_matrix(x_actual, x_predict, labels=['medium', 'ripe', 'unripe']))\n",
        "print(metrics.classification_report(x_actual, x_predict, labels=['medium', 'ripe', 'unripe']))"
      ],
      "execution_count": null,
      "outputs": [
        {
          "output_type": "stream",
          "name": "stdout",
          "text": [
            "[[10 10  0]\n",
            " [ 0 20  0]\n",
            " [ 0  0 20]]\n",
            "              precision    recall  f1-score   support\n",
            "\n",
            "      medium       1.00      0.50      0.67        20\n",
            "        ripe       0.67      1.00      0.80        20\n",
            "      unripe       1.00      1.00      1.00        20\n",
            "\n",
            "    accuracy                           0.83        60\n",
            "   macro avg       0.89      0.83      0.82        60\n",
            "weighted avg       0.89      0.83      0.82        60\n",
            "\n"
          ]
        }
      ]
    }
  ]
}